{
  "nbformat": 4,
  "nbformat_minor": 0,
  "metadata": {
    "colab": {
      "provenance": []
    },
    "kernelspec": {
      "name": "python3",
      "display_name": "Python 3"
    },
    "language_info": {
      "name": "python"
    }
  },
  "cells": [
    {
      "cell_type": "code",
      "execution_count": 1,
      "metadata": {
        "colab": {
          "base_uri": "https://localhost:8080/"
        },
        "id": "CVZGeHKUP3lw",
        "outputId": "37c9e979-c8be-4007-a6d4-da8c48dcef0b"
      },
      "outputs": [
        {
          "output_type": "stream",
          "name": "stdout",
          "text": [
            "Enter your age: 18\n",
            "You are old enough to learn to drive.\n"
          ]
        }
      ],
      "source": [
        "age = int(input(\"Enter your age: \"))\n",
        "if age >= 18:\n",
        "    print(\"You are old enough to learn to drive.\")\n",
        "else:\n",
        "    wait_years = 18 - age\n",
        "    print(f\"You need {wait_years} more years to learn to drive.\")"
      ]
    },
    {
      "cell_type": "code",
      "source": [
        "your_age = int(input(\"Enter your age: \"))\n",
        "\n",
        "my_age = 25\n",
        "\n",
        "if my_age < your_age:\n",
        "    age_difference = your_age - my_age\n",
        "    if age_difference == 1:\n",
        "        print(f\"You are {age_difference} year older than me.\")\n",
        "    else:\n",
        "        print(f\"You are {age_difference} years older than me.\")\n",
        "elif my_age > your_age:\n",
        "    age_difference = my_age - your_age\n",
        "    if age_difference == 1:\n",
        "        print(f\"I am {age_difference} year older than you.\")\n",
        "    else:\n",
        "        print(f\"I am {age_difference} years older than you.\")\n",
        "else:\n",
        "    print(\"We are the same age!\")"
      ],
      "metadata": {
        "colab": {
          "base_uri": "https://localhost:8080/"
        },
        "id": "4rLrOo1IQOaC",
        "outputId": "d36e86a0-3cf6-440c-99d9-d1993a95eefc"
      },
      "execution_count": 2,
      "outputs": [
        {
          "output_type": "stream",
          "name": "stdout",
          "text": [
            "Enter your age: 20\n",
            "I am 5 years older than you.\n"
          ]
        }
      ]
    },
    {
      "cell_type": "code",
      "source": [
        "a = float(input(\"Enter number one: \"))\n",
        "b = float(input(\"Enter number two: \"))\n",
        "\n",
        "if a > b:\n",
        "    print(f\"{a} is greater than {b}\")\n",
        "elif a < b:\n",
        "    print(f\"{a} is smaller than {b}\")\n",
        "else:\n",
        "    print(f\"{a} is equal to {b}\")"
      ],
      "metadata": {
        "colab": {
          "base_uri": "https://localhost:8080/"
        },
        "id": "g2lAnJa8QzRp",
        "outputId": "15c51f17-140d-4449-ea4e-d57038ba688a"
      },
      "execution_count": 3,
      "outputs": [
        {
          "output_type": "stream",
          "name": "stdout",
          "text": [
            "Enter number one: 10\n",
            "Enter number two: 20\n",
            "10.0 is smaller than 20.0\n"
          ]
        }
      ]
    },
    {
      "cell_type": "code",
      "source": [
        "score = int(input(\"Enter your score: \"))\n",
        "\n",
        "if score >= 80:\n",
        "    grade = \"A\"\n",
        "elif score >= 70:\n",
        "    grade = \"B\"\n",
        "elif score >= 60:\n",
        "    grade = \"C\"\n",
        "elif score >= 50:\n",
        "    grade = \"D\"\n",
        "else:\n",
        "    grade = \"F\"\n",
        "\n",
        "print(f\"Your grade is {grade}\")"
      ],
      "metadata": {
        "colab": {
          "base_uri": "https://localhost:8080/"
        },
        "id": "-hPl81rkRDOm",
        "outputId": "4b034b8e-424b-40ee-f629-90c2eac7e8b1"
      },
      "execution_count": 4,
      "outputs": [
        {
          "output_type": "stream",
          "name": "stdout",
          "text": [
            "Enter your score: 100\n",
            "Your grade is A\n"
          ]
        }
      ]
    },
    {
      "cell_type": "code",
      "source": [
        "month = input(\"Enter the month: \")\n",
        "\n",
        "if month in [\"September\", \"October\", \"November\"]:\n",
        "    season = \"Autumn\"\n",
        "elif month in [\"December\", \"January\", \"February\"]:\n",
        "    season = \"Winter\"\n",
        "elif month in [\"March\", \"April\", \"May\"]:\n",
        "    season = \"Spring\"\n",
        "elif month in [\"June\", \"July\", \"August\"]:\n",
        "    season = \"Summer\"\n",
        "else:\n",
        "    season = \"Unknown\"\n",
        "\n",
        "print(f\"The season for {month} is {season}\")"
      ],
      "metadata": {
        "colab": {
          "base_uri": "https://localhost:8080/"
        },
        "id": "FsfbxlPpRQKT",
        "outputId": "a7a9a3e5-4127-40af-fea1-ca22e7375833"
      },
      "execution_count": 6,
      "outputs": [
        {
          "output_type": "stream",
          "name": "stdout",
          "text": [
            "Enter the month: November\n",
            "The season for November is Autumn\n"
          ]
        }
      ]
    }
  ]
}